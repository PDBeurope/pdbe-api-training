{
 "cells": [
  {
   "cell_type": "markdown",
   "metadata": {
    "pycharm": {
     "name": "#%% md\n"
    }
   },
   "source": [
    "# PDBe API Training\n",
    "\n",
    "## Introduction\n",
    "\n",
    "This interactive Python notebook will guide you through programmatically accessing Protein Data Bank in Europe (PDBe) data using our REST API.\n",
    "\n",
    "The REST API is a programmatic way to obtain information from the PDB and EMDB archives. It allows you to access and filter the vast amount of data stored about the protein structures stored in the archives. \n",
    "\n",
    "Many types of information about the structures stored are made available through structured data categories. For example, you can access information about:\n",
    "* sample details\n",
    "* experimental setup\n",
    "* model quality\n",
    "* bound compounds\n",
    "* assembly formation\n",
    "* cross-references\n",
    "* publications\n",
    "* and much more...\n",
    "\n",
    "For more information, visit https://pdbe.org/api\n",
    "\n",
    "If you are brand new to Python (or programming in general), two notebooks covering the basics can be completed in the `0_python_introduction` folder in this tutorial.\n",
    "\n",
    "---\n",
    "---"
   ]
  },
  {
   "cell_type": "markdown",
   "metadata": {},
   "source": [
    "## Setup and Python Fundamentals\n",
    "\n",
    "First we will import the libraries we need for searching the PDBe via an API. The PDBe's \n",
    "API search infrustructure runs on Solr, which can be queried using a dedicated client or \n",
    "with Python's default `requests` library, where searches can be 'posted' to the API. \n",
    "Here, we will use a dedicated client called [`solrq`](https://pypi.org/project/solrq/), \n",
    "which will format our search terms into a Solr-compliant format. There are many other \n",
    "Solr clients to choose from but they should all return the same data from the PDBe. \n",
    "\n",
    "If you're new to Python and want to learn how to use Python's default `requests` \n",
    "library, head to the Jupyter Notebooks in the `extra_api_tutorials` folder. \n",
    "\n",
    "Run the cell below by pressing the play button or `Ctrl+Enter`."
   ]
  },
  {
   "cell_type": "code",
   "execution_count": null,
   "metadata": {},
   "outputs": [],
   "source": [
    "from solrq import Q"
   ]
  },
  {
   "cell_type": "markdown",
   "metadata": {},
   "source": [
    "Next, let's import some additional libraries that we'll need for parsing data and \n",
    "sending our API query off to the PDBe. \n",
    "\n",
    "Run the cell below by pressing the play button or `Ctrl+Enter`."
   ]
  },
  {
   "cell_type": "code",
   "execution_count": null,
   "metadata": {},
   "outputs": [],
   "source": [
    "from pprint import pprint\n",
    "import sys\n",
    "import requests\n",
    "sys.path.insert(0, '..')"
   ]
  },
  {
   "cell_type": "markdown",
   "metadata": {},
   "source": [
    "Now, you have access to additional functions and objects that were not, by default, \n",
    "loaded into your code. In other words, you have pulled into this file code written in \n",
    "`sys`, `pprint` and `requests`, saving you from re-writing them yourself. \n",
    "\n",
    "Nevertheless, you can write your own functions in python using the `def` keyword. Below \n",
    "is an example of a new function, called `make_request_post` written specifically for \n",
    "this notebook, that sends off a query to the PDBe's Solr API and retrieves data.\n",
    "\n",
    "Run the cell below by pressing the play button or `Ctrl+Enter`."
   ]
  },
  {
   "cell_type": "code",
   "execution_count": null,
   "metadata": {},
   "outputs": [],
   "source": [
    "BASE_URL = \"https://www.ebi.ac.uk/pdbe/\"  # the beginning of the URL for PDBe's API.\n",
    "SEARCH_URL = BASE_URL + 'search/pdb/select?'  # the rest of the URL used for PDBe's search API.\n",
    "\n",
    "def make_request_post(search_dict, number_of_rows=10):\n",
    "    \"\"\"\n",
    "    Makes a get request to the PDBe API\n",
    "    \"\"\"\n",
    "    \n",
    "    if 'rows' not in search_dict:\n",
    "        search_dict['rows'] = number_of_rows\n",
    "\n",
    "    search_dict['wt'] = 'json'\n",
    "    response = requests.post(SEARCH_URL, data=search_dict)\n",
    "\n",
    "    if response.status_code == 200:\n",
    "        return response.json()\n",
    "    \n",
    "    else:\n",
    "        print(f\"[No data retrieved - {response.status_code}] {response.text}\")\n",
    "\n",
    "    return {}"
   ]
  },
  {
   "cell_type": "markdown",
   "metadata": {},
   "source": [
    "#### _Explaining functions_\n",
    "\n",
    "Functions are an essential component of programming languages and Python is no \n",
    "exception. They allow us to create a block of instructions that can be called and \n",
    "enacted somewhere else (maybe many places) without us having to re-write every line \n",
    "again. Consider the `print` function; it's a block of code that displays variables on a\n",
    " terminal that you can call anywhere without needing to think about how it displays that \n",
    "variable. By using `def`, we achieve a similar result by writing our own code and then \n",
    "calling it anywhere in our script. \n",
    "\n",
    "Functions might accept inputs, called 'arguments', whenever they are called. The \n",
    "function above accepts two arguments, `search_dict` and `number_of_rows`. By default, we \n",
    "have set `number_of_rows` to `10`, but this can be changed when the function is called. \n",
    "\n",
    "Functions can also `return` values, which we can set to variables. Below is an abstract \n",
    "example:\n",
    "\n",
    "\n",
    "```python\n",
    "# Sets a new variable to the result of 2x2x2\n",
    "eight = cube(2)\n",
    "```"
   ]
  },
  {
   "cell_type": "markdown",
   "metadata": {},
   "source": [
    "Now we have defined a function to send a request to the PDBe's API, we need to format \n",
    "the fields and terms we intend to perform our search with. This requires some processing\n",
    " that could be run every time we send off our query, but it will save us time and lines \n",
    "of code to add this to its own function. \n",
    "\n",
    "Below is a function to format a set of search terms into an appropriate data structure \n",
    "everytime we need to query the PDBe API. In order to use this function elsewhere in the \n",
    "notebook, run the code block below to loan it into memory. "
   ]
  },
  {
   "cell_type": "code",
   "execution_count": null,
   "metadata": {},
   "outputs": [],
   "source": [
    "def format_search_terms_post(search_terms, filter_terms=None, **kwargs):\n",
    "    \"\"\"\n",
    "    Formats the search terms for the PDBe API\n",
    "    \"\"\"\n",
    "\n",
    "    # Variable to return\n",
    "    return_variables = {'q': str(search_terms)}\n",
    "\n",
    "    if filter_terms:\n",
    "        fl = ','.join(filter_terms)\n",
    "        return_variables['fl'] = fl\n",
    "\n",
    "    for arg in kwargs:\n",
    "        return_variables[arg] = kwargs[arg]\n",
    "\n",
    "    return return_variables"
   ]
  },
  {
   "cell_type": "markdown",
   "metadata": {},
   "source": [
    "Finally, we can package these two functions into a single command (another function...) \n",
    "that makes querying as simple as typing `run_search` every time we need data to retrieve\n",
    "data"
   ]
  },
  {
   "cell_type": "code",
   "execution_count": null,
   "metadata": {},
   "outputs": [],
   "source": [
    "def run_search(search_terms, filter_terms=None, number_of_rows=10, **kwargs):\n",
    "    \"\"\"\n",
    "    Run the search with set of search terms\n",
    "    \"\"\"\n",
    "\n",
    "    search_params = format_search_terms_post(search_terms=search_terms, filter_terms=filter_terms)\n",
    "    \n",
    "    if search_params:\n",
    "        response = make_request_post(search_dict=search_params, number_of_rows=number_of_rows)\n",
    "\n",
    "        if response:\n",
    "            results = response.get('response', {}).get('docs', [])\n",
    "            print(f'Number of results for {search_terms}: {len(results)}')\n",
    "            return results\n",
    "\n",
    "    print('No results')\n",
    "    return []"
   ]
  },
  {
   "cell_type": "markdown",
   "metadata": {},
   "source": [
    "____\n",
    "---"
   ]
  },
  {
   "cell_type": "markdown",
   "metadata": {
    "pycharm": {
     "name": "#%% md\n"
    }
   },
   "source": [
    "## Initial testing\n",
    "\n",
    "Now we are ready to run a search against the PDB API for entries containing Acetylcholinesterase from *Homo sapiens*  from  in the PDB. \n",
    "\n",
    "A list of search terms is available at:\n",
    "https://www.ebi.ac.uk/pdbe/api/doc/search.html\n",
    "\n",
    "For this task we will search for the molecule name \"Acetylcholinesterase\" in the PDB.\n",
    "\n",
    "To run the search above we first need to set the query parameters using the module Q, which stands for query. Once these have been set, we can use the \"run_search\" function that we defined above to perform the API query and return the results.\n",
    "\n",
    "By default we have limited the length of the results to 10 rows. "
   ]
  },
  {
   "cell_type": "code",
   "execution_count": null,
   "metadata": {
    "pycharm": {
     "name": "#%%\n"
    }
   },
   "outputs": [],
   "source": [
    "# Create the Solr search terms object\n",
    "search_terms = Q(molecule_name='Acetylcholinesterase')\n",
    "\n",
    "# Run the search\n",
    "initial_results = run_search(search_terms)\n",
    "print(\"Finished\")"
   ]
  },
  {
   "cell_type": "markdown",
   "metadata": {
    "pycharm": {
     "name": "#%% md\n"
    }
   },
   "source": [
    "Not all queries will return valuable results.\n",
    "\n",
    "What if we try to search for something that doesn't exist?"
   ]
  },
  {
   "cell_type": "code",
   "execution_count": null,
   "metadata": {
    "pycharm": {
     "name": "#%%\n"
    }
   },
   "outputs": [],
   "source": [
    "# The Solr search object can be created with the incorrect search term, 'bob'\n",
    "search_terms = Q(bob=\"Acetylcholinesterase\")\n",
    "\n",
    "# Run the erroneous search\n",
    "bad_results = run_search(search_terms)\n",
    "print(\"Finished\")"
   ]
  },
  {
   "cell_type": "code",
   "execution_count": null,
   "metadata": {
    "pycharm": {
     "name": "#%%\n"
    }
   },
   "outputs": [],
   "source": [
    "# The search term is now correct, but the value is incorrect\n",
    "search_terms = Q(molecule_name=\"bob\")\n",
    "\n",
    "# Run the erroneous search and see what you get\n",
    "empty_results = run_search(search_terms)\n",
    "print(\"Finished\")"
   ]
  },
  {
   "cell_type": "markdown",
   "metadata": {
    "pycharm": {
     "name": "#%% md\n"
    }
   },
   "source": [
    "What if we define the search terms incorrectly? (Hint: This will fail!)"
   ]
  },
  {
   "cell_type": "code",
   "execution_count": null,
   "metadata": {
    "pycharm": {
     "name": "#%%\n"
    }
   },
   "outputs": [],
   "source": [
    "search_terms = Q('bob')\n",
    "bad_results = run_search(search_terms)"
   ]
  },
  {
   "cell_type": "markdown",
   "metadata": {},
   "source": [
    "---\n",
    "---"
   ]
  },
  {
   "cell_type": "markdown",
   "metadata": {
    "pycharm": {
     "name": "#%% md\n"
    }
   },
   "source": [
    "## Refining the query\n",
    "\n",
    "We can make the search results more specific by adding additional query parameters.\n",
    "\n",
    "Here we will try to add organism_name \"Homo sapiens\" to the query to limit the results to only return those that are structures of the human Acetylcholinesterase."
   ]
  },
  {
   "cell_type": "code",
   "execution_count": null,
   "metadata": {
    "pycharm": {
     "name": "#%%\n"
    }
   },
   "outputs": [],
   "source": [
    "search_terms = Q(organism_name='Homo sapiens', molecule_name='Acetylcholinesterase')\n",
    "refined_results = run_search(search_terms)"
   ]
  },
  {
   "cell_type": "markdown",
   "metadata": {},
   "source": [
    "How did we know which search terms to use?\n",
    "\n",
    "There are many parameters that can be used to filter the results of a search. To find useful data requires an understanding of the data available.\n",
    "\n",
    "\n",
    "Exploring the data available is an essential part of the process, all the search terms can be found here:\n",
    "\n",
    "https://www.ebi.ac.uk/pdbe/api/doc/search.html\n",
    "\n",
    "For more complicated queries have a look at the documentation:\n",
    "\n",
    "https://solrq.readthedocs.io/en/latest/index.html\n",
    "\n",
    "---\n",
    "---\n"
   ]
  },
  {
   "cell_type": "markdown",
   "metadata": {},
   "source": [
    "## Exploring the results\n",
    "\n",
    "Once a set of results have been obtained, they can be explored in more detail.\n",
    "\n",
    "We will now look at individual protein structures returned in the refined_results.\n",
    "\n",
    "The following code returns all the data associated with the first protein structure found in the refined_results. It uses \"pprint\" (pretty print) to make the results easier to read.\n",
    "\n",
    "All of the \"keys\" on the left side of the results can be used as a search term."
   ]
  },
  {
   "cell_type": "code",
   "execution_count": null,
   "metadata": {
    "pycharm": {
     "name": "#%%\n"
    }
   },
   "outputs": [],
   "source": [
    "pprint(refined_results[0])"
   ]
  },
  {
   "cell_type": "markdown",
   "metadata": {},
   "source": [
    "There are many terms with the prefixes \"q_\" and \"t_\". These are only used for internal processes in PDBe and so can be ignored. \n",
    "\n",
    "Below we will find all the search terms that might be useful when querying the data (excludes the \"q_\" and \"t_\" search terms)."
   ]
  },
  {
   "cell_type": "code",
   "execution_count": null,
   "metadata": {
    "pycharm": {
     "name": "#%%\n"
    }
   },
   "outputs": [],
   "source": [
    "useful_search_terms = []\n",
    "\n",
    "for term in refined_results[0].keys():\n",
    "    if not term.startswith('q_') and not term.startswith('t_'):\n",
    "        useful_search_terms.append(term)\n",
    "\n",
    "print(\n",
    "    f\"There are {len(useful_search_terms)} available search terms \",\n",
    "    '(excluding \"q_\" and \"t_\" terms)'\n",
    ")"
   ]
  },
  {
   "cell_type": "markdown",
   "metadata": {
    "pycharm": {
     "name": "#%% md\n"
    }
   },
   "source": [
    "and then print out the terms we can use:"
   ]
  },
  {
   "cell_type": "code",
   "execution_count": null,
   "metadata": {
    "pycharm": {
     "name": "#%%\n"
    }
   },
   "outputs": [],
   "source": [
    "pprint(useful_search_terms)"
   ]
  },
  {
   "cell_type": "markdown",
   "metadata": {
    "pycharm": {
     "name": "#%% md\n"
    }
   },
   "source": [
    "As you can see we get lots of data back about the individual molecule we have searched for and the PDB entries\n",
    "in which it is contained.\n",
    "\n",
    "For example, we can get the PDB ID and structure resolution for this first result as follows:"
   ]
  },
  {
   "cell_type": "code",
   "execution_count": null,
   "metadata": {
    "pycharm": {
     "name": "#%%\n"
    }
   },
   "outputs": [],
   "source": [
    "print(f\"PDB ID:     {refined_results[0]['pdb_id']}\")\n",
    "print(f\"Resolution: {refined_results[0]['resolution']}\")"
   ]
  },
  {
   "cell_type": "markdown",
   "metadata": {},
   "source": [
    "---\n",
    "---"
   ]
  },
  {
   "cell_type": "markdown",
   "metadata": {},
   "source": [
    "## Filtering the output data\n",
    "\n",
    "There are too many different terms to look through so we can restrict the results to only the information we want\n",
    "using a filter so its easier to see the information we want."
   ]
  },
  {
   "cell_type": "code",
   "execution_count": null,
   "metadata": {
    "pycharm": {
     "name": "#%%\n"
    }
   },
   "outputs": [],
   "source": [
    "search_terms = Q(molecule_name=\"Acetylcholinesterase\",organism_name=\"Homo sapiens\")\n",
    "filter_terms = ['pdb_id', 'resolution']\n",
    "\n",
    "resolution_results = run_search(search_terms, filter_terms)\n",
    "pprint(resolution_results)"
   ]
  },
  {
   "cell_type": "markdown",
   "metadata": {},
   "source": [
    "---\n",
    "---\n"
   ]
  },
  {
   "cell_type": "markdown",
   "metadata": {
    "pycharm": {
     "name": "#%% md\n"
    }
   },
   "source": [
    "## Reformatting the results\n",
    "\n",
    "While we were exploring the data we restricted the number of entries in the output to 10 rows. This allows us to get the results more quickly. Once we have refined our query parameters we can increase this limit.\n",
    "\n",
    "Now we have a refined query, lets increase the output to 1000 rows. We will then increase the number of rows to 1000 - depending on the search we might get fewer than 1000 results back\n",
    "\n",
    "**--This fulfils Project Aim 1A--**"
   ]
  },
  {
   "cell_type": "code",
   "execution_count": null,
   "metadata": {
    "pycharm": {
     "name": "#%%\n"
    }
   },
   "outputs": [],
   "source": [
    "search_terms = Q(molecule_name=\"Acetylcholinesterase\",organism_name=\"Homo sapiens\")\n",
    "filter_terms = ['pdb_id', 'resolution', 'release_year']\n",
    "\n",
    "huma_ach_results = run_search(search_terms, filter_terms, number_of_rows=1000)\n",
    "pprint(huma_ach_results)"
   ]
  },
  {
   "cell_type": "markdown",
   "metadata": {},
   "source": [
    "We are going to use a Python package called Pandas to help us analyse and visualise the \n",
    "results. Pandas is a library for handling tabular data and also has built-in graphing \n",
    "capability (forked from a package called [`matplotlib`](https://matplotlib.org/stable/)).\n",
    "Begin by importing the Pandas library using the code below:"
   ]
  },
  {
   "cell_type": "code",
   "execution_count": null,
   "metadata": {},
   "outputs": [],
   "source": [
    "# Imports pandas and set its name to pd\n",
    "import pandas as pd"
   ]
  },
  {
   "cell_type": "markdown",
   "metadata": {},
   "source": [
    "The `... as pd` part in the code block above resets the name to `pd`. This is a common \n",
    "shorthand when using Pandas but is optional. \n",
    "\n",
    "The below function reformats the results so that they can be loaded into Pandas:"
   ]
  },
  {
   "cell_type": "code",
   "execution_count": null,
   "metadata": {},
   "outputs": [],
   "source": [
    "def pandas_dataset(list_of_results):\n",
    "    \"\"\"\n",
    "    Updates lists to strings for loading into Pandas\n",
    "    \"\"\"\n",
    "    for row in list_of_results:\n",
    "        for data in row:\n",
    "            if type(row[data]) == list:\n",
    "                # If there are any numbers in the list change them into strings\n",
    "                row[data] = [str(a) for a in row[data]]\n",
    "\n",
    "                # Unique and sort the list and then change the list into a string\n",
    "                row[data] = ','.join(sorted(list(set(row[data]))))\n",
    "\n",
    "    df = pd.DataFrame(list_of_results)\n",
    "    return df"
   ]
  },
  {
   "cell_type": "code",
   "execution_count": null,
   "metadata": {
    "pycharm": {
     "name": "#%%\n"
    }
   },
   "outputs": [],
   "source": [
    "df_human_ach = pandas_dataset(list_of_results=huma_ach_results)\n",
    "df_human_ach.head()"
   ]
  },
  {
   "cell_type": "markdown",
   "metadata": {},
   "source": [
    "We can save the results to a CSV file which we can load into excel"
   ]
  },
  {
   "cell_type": "code",
   "execution_count": null,
   "metadata": {
    "pycharm": {
     "name": "#%%\n"
    }
   },
   "outputs": [],
   "source": [
    "df_human_ach.to_csv(\"search_results_project_aims_1a.csv\")\n",
    "print('Search results written in to file: search_results_project_aims_1a.csv')"
   ]
  },
  {
   "cell_type": "markdown",
   "metadata": {},
   "source": [
    "---\n",
    "---\n",
    "\n",
    "## Downloading a structure file\n",
    "\n",
    "Now you have a list of PDB IDs, you can download the structure files for these entries."
   ]
  },
  {
   "cell_type": "code",
   "execution_count": 1,
   "metadata": {},
   "outputs": [],
   "source": [
    "import urllib.request\n",
    "import shutil\n",
    "from contextlib import closing\n",
    "\n",
    "pdb_id = '10mh'\n",
    "\n",
    "url_stem = \"https://ftp.ebi.ac.uk/pub/databases/pdb/data/structures/divided/mmCIF/\"\n",
    "url_entry = f\"{pdb_id[1:3]}/{pdb_id}.cif.gz\"\n",
    "\n",
    "complete_url = url_stem + url_entry\n",
    "\n",
    "with closing(urllib.request.urlopen(complete_url)) as r:\n",
    "    file_save_name = f\"{pdb_id}.cif.gz\"\n",
    "\n",
    "    with open(file_save_name, 'wb') as f:\n",
    "        shutil.copyfileobj(r, f)"
   ]
  },
  {
   "cell_type": "markdown",
   "metadata": {},
   "source": [
    "The example above works for a single PDB ID, but you can also download multiple files by iterating through a list of PDB IDs. If you're downloading many many files, in the range of hundreds or thousands, you may want to consider using the PDBe's bulk download service instead, which can be found here: [PDBe Bulk Download Service](https://www.ebi.ac.uk/pdbe/download/docs)."
   ]
  },
  {
   "cell_type": "markdown",
   "metadata": {},
   "source": [
    "---\n",
    "---"
   ]
  },
  {
   "cell_type": "markdown",
   "metadata": {
    "pycharm": {
     "name": "#%% md\n"
    }
   },
   "source": [
    "## Analysing and plotting the results\n",
    "\n",
    "We can use the above results to count how many PDB codes there are for each resolution\n",
    "This groups PDB IDs by resolution value and then counts the number of unique PDB IDs per method."
   ]
  },
  {
   "cell_type": "code",
   "execution_count": null,
   "metadata": {
    "pycharm": {
     "name": "#%%\n"
    }
   },
   "outputs": [],
   "source": [
    "df_human_ach.groupby('resolution')['pdb_id'].nunique()"
   ]
  },
  {
   "cell_type": "markdown",
   "metadata": {
    "pycharm": {
     "name": "#%% md\n"
    }
   },
   "source": [
    "We can then plot these results in a variety of ways using pandas:"
   ]
  },
  {
   "cell_type": "code",
   "execution_count": null,
   "metadata": {},
   "outputs": [],
   "source": [
    "def pandas_plot(df, column_to_group_by, graph_type='bar'):\n",
    "    \"\"\"\n",
    "    Function to create a plot from a Pandas DataFrame\n",
    "    \"\"\"\n",
    "    ds = df.groupby(column_to_group_by)['pdb_id'].nunique()\n",
    "    ds.plot(kind=graph_type)"
   ]
  },
  {
   "cell_type": "code",
   "execution_count": null,
   "metadata": {
    "pycharm": {
     "name": "#%%\n"
    }
   },
   "outputs": [],
   "source": [
    "# Plot resolution as a histogram\n",
    "df_human_ach.plot('release_year', kind='hist')"
   ]
  },
  {
   "cell_type": "code",
   "execution_count": null,
   "metadata": {},
   "outputs": [],
   "source": [
    "# Plot release year as a bar chart\n",
    "pandas_plot(\n",
    "    df=df_human_ach,\n",
    "    column_to_group_by='release_year',\n",
    "    graph_type='bar'\n",
    ")"
   ]
  },
  {
   "cell_type": "markdown",
   "metadata": {
    "pycharm": {
     "name": "#%% md\n"
    }
   },
   "source": [
    "A line plot might make more sense for this data:"
   ]
  },
  {
   "cell_type": "code",
   "execution_count": null,
   "metadata": {
    "pycharm": {
     "name": "#%%\n"
    }
   },
   "outputs": [],
   "source": [
    "# Plot release year as a line chart\n",
    "pandas_plot(\n",
    "    df=df_human_ach,\n",
    "    column_to_group_by='release_year',\n",
    "    graph_type='line'\n",
    ")"
   ]
  },
  {
   "cell_type": "markdown",
   "metadata": {},
   "source": [
    "---\n",
    "---"
   ]
  },
  {
   "cell_type": "markdown",
   "metadata": {},
   "source": [
    "## Searching for interacting macromolecules\n",
    "\n",
    "We can now use what we have learnt to obtain the data other project aims:\n",
    "\n",
    "**--The following search fulfils Project Aim 1B--**"
   ]
  },
  {
   "cell_type": "code",
   "execution_count": null,
   "metadata": {
    "scrolled": false
   },
   "outputs": [],
   "source": [
    "# Obtain Project Aim 1B results\n",
    "search_terms = Q(molecule_name=\"Acetylcholinesterase\",organism_name=\"Homo sapiens\")\n",
    "filter_terms = ['pdb_id','interacting_uniprot_accession']\n",
    "human_ach_interacting_prots_results = run_search(\n",
    "    search_terms, \n",
    "    filter_terms, \n",
    "    number_of_rows = 1000\n",
    ")"
   ]
  },
  {
   "cell_type": "code",
   "execution_count": null,
   "metadata": {},
   "outputs": [],
   "source": [
    "# Reformat and write results to file\n",
    "df_human_ach_interacting_prots = pandas_dataset(\n",
    "    list_of_results = human_ach_interacting_prots_results\n",
    ")\n",
    "df_human_ach_interacting_prots.to_csv(\"search_results_project_aims_1b.csv\")\n",
    "\n",
    "print('Search results written in to file: search_results_project_aims_1b.csv')"
   ]
  },
  {
   "cell_type": "code",
   "execution_count": null,
   "metadata": {},
   "outputs": [],
   "source": [
    "# Print results\n",
    "pprint(human_ach_interacting_prots_results)"
   ]
  },
  {
   "cell_type": "markdown",
   "metadata": {},
   "source": [
    "**--The following search fulfils Project Aim 1C--**"
   ]
  },
  {
   "cell_type": "code",
   "execution_count": null,
   "metadata": {},
   "outputs": [],
   "source": [
    "# Obtain Project Aim 1C results\n",
    "search_terms = Q(molecule_name=\"Acetylcholinesterase\",organism_name=\"Homo sapiens\")\n",
    "filter_terms = ['pdb_id','interacting_ligands']\n",
    "human_ach_interacting_ligs_results = run_search(\n",
    "    search_terms, \n",
    "    filter_terms, \n",
    "    number_of_rows = 1000\n",
    ")"
   ]
  },
  {
   "cell_type": "code",
   "execution_count": null,
   "metadata": {},
   "outputs": [],
   "source": [
    "# Reformat and write results to file\n",
    "df_human_ach_interacting_ligs = pandas_dataset(\n",
    "    list_of_results = human_ach_interacting_ligs_results\n",
    ")\n",
    "df_human_ach_interacting_ligs.to_csv(\"search_results_project_aims_3.csv\")\n",
    "\n",
    "print('Search results written in to file: search_results_project_aims_1c.csv')"
   ]
  },
  {
   "cell_type": "code",
   "execution_count": null,
   "metadata": {},
   "outputs": [],
   "source": [
    "# Print results\n",
    "pprint(human_ach_interacting_ligs_results)"
   ]
  },
  {
   "cell_type": "markdown",
   "metadata": {},
   "source": [
    "---\n",
    "---"
   ]
  },
  {
   "cell_type": "markdown",
   "metadata": {},
   "source": [
    "### Optional extras\n",
    "\n",
    "Some data is only available through the search API and not the web interface.\n",
    "\n",
    "One example of this is the additional information made available about antibodies:"
   ]
  },
  {
   "cell_type": "code",
   "execution_count": null,
   "metadata": {
    "pycharm": {
     "name": "#%%\n"
    }
   },
   "outputs": [],
   "source": [
    "search_terms = Q(antibody_flag='Y')\n",
    "filter_terms = ['antibody_name', 'antibody_species', 'pdb_id']\n",
    "\n",
    "antibody_results = run_search(\n",
    "    search_terms, \n",
    "    filter_terms=filter_terms, \n",
    "    number_of_rows=1000000\n",
    ")"
   ]
  },
  {
   "cell_type": "markdown",
   "metadata": {},
   "source": [
    "With this data we can explore it by grouping the column values:"
   ]
  },
  {
   "cell_type": "code",
   "execution_count": null,
   "metadata": {
    "pycharm": {
     "name": "#%%\n"
    }
   },
   "outputs": [],
   "source": [
    "df_antibody_results = pandas_dataset(antibody_results)\n",
    "print(df_antibody_results)\n",
    "\n",
    "# Count number of entries containing an antibody\n",
    "ds_antibody_entries = df_antibody_results.groupby('pdb_id').count()\n",
    "print(\n",
    "    f\"\"\"\n",
    "    Number of antibody entries: {len(ds_antibody_entries)}\n",
    "    \"\"\"\n",
    ")\n",
    "\n",
    "# Count all the species which an antibody has been obtained from \n",
    "ds_antibody_species = df_antibody_results.groupby('antibody_species').count()\n",
    "print(\n",
    "    f\"\"\"\n",
    "    Antibody entries broken down by species: \n",
    "    {ds_antibody_species['antibody_name']}\n",
    "    \"\"\"\n",
    ")"
   ]
  }
 ],
 "metadata": {
  "kernelspec": {
   "display_name": "env",
   "language": "python",
   "name": "python3"
  },
  "language_info": {
   "codemirror_mode": {
    "name": "ipython",
    "version": 3
   },
   "file_extension": ".py",
   "mimetype": "text/x-python",
   "name": "python",
   "nbconvert_exporter": "python",
   "pygments_lexer": "ipython3",
   "version": "3.10.15"
  }
 },
 "nbformat": 4,
 "nbformat_minor": 1
}
