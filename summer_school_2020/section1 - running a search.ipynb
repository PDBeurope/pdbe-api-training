{
 "cells": [
  {
   "cell_type": "markdown",
   "source": [
    "# PDBe API Training\n",
    "\n",
    "### PDBe search\n",
    "\n",
    "This interactive Python notebook will guide you through programmatically accessing Protein Data Bank in Europe (PDBe)\n",
    "data using our REST API\n",
    "\n",
    "The REST API is a programmatic way to obtain information from the PDB and EMDB. You can access details about:\n",
    "\n",
    "* sample\n",
    "* experiment\n",
    "* models\n",
    "* compounds\n",
    "* cross-references\n",
    "* publications\n",
    "* quality\n",
    "* assemblies\n",
    "* search\n",
    "and more...\n",
    "For more information, visit https://pdbe.org/api\n",
    "\n",
    "\n",
    "This tutorial will guide you through searching PDBe programmatically.\n",
    "\n",
    "\n",
    "First we will import the code which will do the work\n",
    "Run the cell below - by pressing the green play button."
   ],
   "metadata": {
    "collapsed": false,
    "pycharm": {
     "name": "#%% md\n"
    }
   }
  },
  {
   "cell_type": "code",
   "execution_count": 5,
   "metadata": {
    "collapsed": true
   },
   "outputs": [],
   "source": [
    "from pprint import pprint\n",
    "from solrq import Q, Range\n",
    "import sys\n",
    "sys.path.insert(0,'..') # to ensure the below import works in all Jupyter notebooks\n",
    "from python_modules.api_modules import run_search, pandas_dataset, pandas_count, pandas_plot, pandas_plot_multi_groupby"
   ]
  },
  {
   "cell_type": "markdown",
   "source": [
    "Now we are ready to actually run a search against the PDB API for entries containing human Dihydrofolate reductase in the PDB. This will return a list of results - only 10 to start with.\n",
    "\n",
    "A list of search terms is available at:\n",
    "https://www.ebi.ac.uk/pdbe/api/doc/search.html\n",
    "\n",
    "We are going to search for the molecule name \"Dihydrofolate reductase\" in the PDB\n",
    "\n",
    "The search terms are defined using a module called Q\n",
    "\n",
    "We have imported a function called \"run_search\" that will do the search for us.\n",
    "We have limited this to 10 results and we will print finished at the end to show its complete"
   ],
   "metadata": {
    "collapsed": false,
    "pycharm": {
     "name": "#%% md\n"
    }
   }
  },
  {
   "cell_type": "code",
   "execution_count": 6,
   "outputs": [
    {
     "output_type": "stream",
     "name": "stdout",
     "text": [
      "1st search - limited to 10 results\n",
      "Number of results for molecule_name:Dihydrofolate\\ reductase: 10\n",
      "finished\n"
     ]
    }
   ],
   "source": [
    "print('1st search - limited to 10 results')\n",
    "\n",
    "search_terms = Q(molecule_name='Dihydrofolate reductase')\n",
    "\n",
    "first_results = run_search(search_terms)\n",
    "print('finished')"
   ],
   "metadata": {
    "collapsed": false,
    "pycharm": {
     "name": "#%%\n"
    }
   }
  },
  {
   "cell_type": "markdown",
   "source": [
    "what if we try to search for something that doesn't exist"
   ],
   "metadata": {
    "collapsed": false,
    "pycharm": {
     "name": "#%% md\n"
    }
   }
  },
  {
   "cell_type": "code",
   "execution_count": null,
   "outputs": [],
   "source": [
    "print('Getting the search wrong')\n",
    "\n",
    "search_terms = Q(something_that_does_not_exist=\"Dihydrofolate reductase\")\n",
    "false_results = run_search(search_terms)"
   ],
   "metadata": {
    "collapsed": false,
    "pycharm": {
     "name": "#%%\n"
    }
   }
  },
  {
   "cell_type": "code",
   "execution_count": null,
   "outputs": [],
   "source": [
    "search_terms = Q(molecule_name=\"bob\")\n",
    "false_results2 = run_search(search_terms)"
   ],
   "metadata": {
    "collapsed": false,
    "pycharm": {
     "name": "#%%\n"
    }
   }
  },
  {
   "cell_type": "markdown",
   "source": [
    "or we define our search terms incorrectly (this will fail)"
   ],
   "metadata": {
    "collapsed": false,
    "pycharm": {
     "name": "#%% md\n"
    }
   }
  },
  {
   "cell_type": "code",
   "execution_count": null,
   "outputs": [],
   "source": [
    "search_terms = Q('bob')\n",
    "false_results3 = run_search(search_terms)"
   ],
   "metadata": {
    "collapsed": false,
    "pycharm": {
     "name": "#%%\n"
    }
   }
  },
  {
   "cell_type": "markdown",
   "source": [
    "We will add organism_name of Human to the query to limit the results to only return those that are structures of Human Dihydrofolate reductase."
   ],
   "metadata": {
    "collapsed": false,
    "pycharm": {
     "name": "#%% md\n"
    }
   }
  },
  {
   "cell_type": "code",
   "execution_count": null,
   "outputs": [],
   "source": [
    "print('2nd search - two terms together')\n",
    "search_terms = Q(organism_name=\"Human\",molecule_name=\"Dihydrofolate reductase\")\n",
    "second_results = run_search(search_terms)\n"
   ],
   "metadata": {
    "collapsed": false,
    "pycharm": {
     "name": "#%%\n"
    }
   }
  },
  {
   "cell_type": "markdown",
   "source": [
    "For more complicated queries have a look at the documentation\n",
    "https://solrq.readthedocs.io/en/latest/index.html\n",
    "\n",
    "How did we know which search terms to use?\n",
    "\n",
    "We will then look at the results of the last search.\n",
    "\n",
    "We will look at the first result with the following command\n",
    "i.e. second_results[0]\n",
    "\n",
    "We are going to use \"pprint\" (pretty print) rather than \"print\" to make the result easier to read.\n",
    "\n",
    "All of the \"keys\" on the left side of the results can be used as a search term."
   ],
   "metadata": {
    "collapsed": false
   }
  },
  {
   "cell_type": "code",
   "execution_count": null,
   "outputs": [],
   "source": [
    "pprint(second_results[0])"
   ],
   "metadata": {
    "collapsed": false,
    "pycharm": {
     "name": "#%%\n"
    }
   }
  },
  {
   "cell_type": "markdown",
   "source": [
    "We use terms prefixed with q_ and t_ for our internal use so we can exclude the\n",
    " list of available search terms is available using the following command and then see how many search terms there are"
   ],
   "metadata": {
    "collapsed": false
   }
  },
  {
   "cell_type": "code",
   "execution_count": null,
   "outputs": [],
   "source": [
    "keys_without_q = [q for q in second_results[0].keys() if not (q.startswith('q_') or (q.startswith('t_')))]\n",
    "print('There are {} available search terms'.format(len(keys_without_q)))"
   ],
   "metadata": {
    "collapsed": false,
    "pycharm": {
     "name": "#%%\n"
    }
   }
  },
  {
   "cell_type": "markdown",
   "source": [
    "and then print out the terms we can use"
   ],
   "metadata": {
    "collapsed": false,
    "pycharm": {
     "name": "#%% md\n"
    }
   }
  },
  {
   "cell_type": "code",
   "execution_count": null,
   "outputs": [],
   "source": [
    "pprint(keys_without_q)"
   ],
   "metadata": {
    "collapsed": false,
    "pycharm": {
     "name": "#%%\n"
    }
   }
  },
  {
   "cell_type": "markdown",
   "source": [
    "As you can see we get lots of data back about the individual molecule we have searched for and the PDB entries\n",
    "in which it is contained.\n",
    "\n",
    "We can get the PDB ID and experimental method for this first result as follows."
   ],
   "metadata": {
    "collapsed": false,
    "pycharm": {
     "name": "#%% md\n"
    }
   }
  },
  {
   "cell_type": "code",
   "execution_count": null,
   "outputs": [],
   "source": [
    "print(second_results[0].get('pdb_id'))\n",
    "print(second_results[0].get('experimental_method'))"
   ],
   "metadata": {
    "collapsed": false,
    "pycharm": {
     "name": "#%%\n"
    }
   }
  },
  {
   "cell_type": "markdown",
   "source": [
    "Note that the experimental method is a list as there can be more than one experimental method per entry"
   ],
   "metadata": {
    "collapsed": false,
    "pycharm": {
     "name": "#%% md\n"
    }
   }
  },
  {
   "cell_type": "markdown",
   "source": [
    "There are too many different terms to look through so we can restrict the results to only the information we want\n",
    "using a filter so its easier to see the information we want."
   ],
   "metadata": {
    "collapsed": false
   }
  },
  {
   "cell_type": "code",
   "execution_count": null,
   "outputs": [],
   "source": [
    "print('3rd search')\n",
    "search_terms = Q(molecule_name=\"Dihydrofolate reductase\",organism_name=\"Human\")\n",
    "filter_terms = ['pdb_id', 'experimental_method']\n",
    "third_results = run_search(search_terms, filter_terms)\n",
    "pprint(third_results)"
   ],
   "metadata": {
    "collapsed": false,
    "pycharm": {
     "name": "#%%\n"
    }
   }
  },
  {
   "cell_type": "markdown",
   "source": [
    "We are still restricting the number of entries to 10 so we get the results quickly\n",
    "\n",
    "We will then increase the number of rows to 1000 - depending on the search we might get fewer than 1000 results back"
   ],
   "metadata": {
    "collapsed": false,
    "pycharm": {
     "name": "#%% md\n"
    }
   }
  },
  {
   "cell_type": "code",
   "execution_count": null,
   "outputs": [],
   "source": [
    "print('Search with 1000 rows')\n",
    "search_terms = Q(molecule_name=\"Dihydrofolate reductase\",organism_name=\"Human\")\n",
    "filter_terms = ['pdb_id', 'experimental_method', 'release_year']\n",
    "\n",
    "third_results_more_rows = run_search(search_terms, filter_terms, number_of_rows=1000)\n",
    "pprint(third_results_more_rows)"
   ],
   "metadata": {
    "collapsed": false,
    "pycharm": {
     "name": "#%%\n"
    }
   }
  },
  {
   "cell_type": "markdown",
   "source": [
    "We are going to use a Python package called Pandas to help us analyse and visualise the results"
   ],
   "metadata": {
    "collapsed": false
   }
  },
  {
   "cell_type": "code",
   "execution_count": null,
   "outputs": [],
   "source": [
    "df = pandas_dataset(list_of_results=third_results_more_rows)\n",
    "print(df)"
   ],
   "metadata": {
    "collapsed": false,
    "pycharm": {
     "name": "#%%\n"
    }
   }
  },
  {
   "cell_type": "markdown",
   "source": [
    "We can save the results to a CSV file which we can load into excel"
   ],
   "metadata": {
    "collapsed": false
   }
  },
  {
   "cell_type": "code",
   "execution_count": null,
   "outputs": [],
   "source": [
    "df.to_csv(\"search_results.csv\")"
   ],
   "metadata": {
    "collapsed": false,
    "pycharm": {
     "name": "#%%\n"
    }
   }
  },
  {
   "cell_type": "markdown",
   "source": [
    "We can use the this to count how many PDB codes there are for each experimental method\n",
    "This groups PDB IDs by experimental method and then counts the number of unique PDB IDs per method."
   ],
   "metadata": {
    "collapsed": false,
    "pycharm": {
     "name": "#%% md\n"
    }
   }
  },
  {
   "cell_type": "code",
   "execution_count": null,
   "outputs": [],
   "source": [
    "pandas_count(df=df,\n",
    "             column_to_group_by='experimental_method')"
   ],
   "metadata": {
    "collapsed": false,
    "pycharm": {
     "name": "#%%\n"
    }
   }
  },
  {
   "cell_type": "markdown",
   "source": [
    "or plot the results"
   ],
   "metadata": {
    "collapsed": false,
    "pycharm": {
     "name": "#%% md\n"
    }
   }
  },
  {
   "cell_type": "code",
   "execution_count": null,
   "outputs": [],
   "source": [
    "pandas_plot(df=df,\n",
    "            column_to_group_by='experimental_method',\n",
    "            graph_type='bar'\n",
    "            )"
   ],
   "metadata": {
    "collapsed": false,
    "pycharm": {
     "name": "#%%\n"
    }
   }
  },
  {
   "cell_type": "markdown",
   "source": [
    "or plot per release year"
   ],
   "metadata": {
    "collapsed": false,
    "pycharm": {
     "name": "#%% md\n"
    }
   }
  },
  {
   "cell_type": "code",
   "execution_count": null,
   "outputs": [],
   "source": [
    "pandas_plot(df=df,\n",
    "            column_to_group_by='release_year',\n",
    "            graph_type='bar'\n",
    "            )"
   ],
   "metadata": {
    "collapsed": false,
    "pycharm": {
     "name": "#%%\n"
    }
   }
  },
  {
   "cell_type": "markdown",
   "source": [
    "maybe a line plot makes more sense here"
   ],
   "metadata": {
    "collapsed": false,
    "pycharm": {
     "name": "#%% md\n"
    }
   }
  },
  {
   "cell_type": "code",
   "execution_count": null,
   "outputs": [],
   "source": [
    "pandas_plot(df=df,\n",
    "            column_to_group_by='release_year',\n",
    "            graph_type='line'\n",
    "            )"
   ],
   "metadata": {
    "collapsed": false,
    "pycharm": {
     "name": "#%%\n"
    }
   }
  },
  {
   "cell_type": "markdown",
   "source": [
    "Maybe we've heard that Electron Microscopy is taking over and we want to see if this is true\n",
    "\n",
    "We will filter out all hybrid methods."
   ],
   "metadata": {
    "collapsed": false,
    "pycharm": {
     "name": "#%% md\n"
    }
   }
  },
  {
   "cell_type": "code",
   "execution_count": null,
   "outputs": [],
   "source": [
    "search_terms = Q(release_year=Range(2000, 2019))\n",
    "filter_results = ['experimental_method','release_year', 'pdb_id']\n",
    "results = run_search(search_terms, filter_results, number_of_rows=100)\n",
    "\n",
    "df = pandas_dataset(results)\n",
    "\n",
    "# filter out all hybrid methods\n",
    "df = df[~df['experimental_method'].str.contains(',')]\n",
    "pandas_plot_multi_groupby(df, 'release_year', 'experimental_method')"
   ],
   "metadata": {
    "collapsed": false,
    "pycharm": {
     "name": "#%%\n"
    }
   }
  },
  {
   "cell_type": "markdown",
   "source": [
    "To get the full list of results we need to increase the number of results we get back\n",
    "\n",
    "The third line filters out all hybrid methods which makes the graph easier to see."
   ],
   "metadata": {
    "collapsed": false,
    "pycharm": {
     "name": "#%% md\n"
    }
   }
  },
  {
   "cell_type": "code",
   "execution_count": null,
   "outputs": [],
   "source": [
    "results = run_search(search_terms, filter_results, number_of_rows=100000)\n",
    "# filter out all hybrid methods\n",
    "df = pandas_dataset(results)\n",
    "df = df[~df['experimental_method'].str.contains(',')]\n",
    "pandas_plot_multi_groupby(df, 'release_year', 'experimental_method')\n"
   ],
   "metadata": {
    "collapsed": false,
    "pycharm": {
     "name": "#%%\n"
    }
   }
  },
  {
   "cell_type": "markdown",
   "source": [
    "Some data is only available through the search API and not the web interface.\n",
    "An example of this is information about antibodies.  "
   ],
   "metadata": {
    "collapsed": false
   }
  },
  {
   "cell_type": "code",
   "execution_count": null,
   "outputs": [],
   "source": [
    "search_terms = Q(antibody_flag='Y')\n",
    "filter_terms = ['antibody_flag', 'antibody_name', 'antibody_species', 'pdb_id']\n",
    "api_only_results1 = run_search(search_terms, filter_terms=filter_terms, number_of_rows=1000000)\n",
    "print(len(api_only_results1))"
   ],
   "metadata": {
    "collapsed": false,
    "pycharm": {
     "name": "#%%\n"
    }
   }
  },
  {
   "cell_type": "code",
   "execution_count": null,
   "outputs": [],
   "source": [
    "df = pandas_dataset(api_only_results1)\n",
    "print(df)\n",
    "ds = df.groupby('pdb_id').count()\n",
    "print(len(ds))\n",
    "#ds = df.groupby('antibody_species').count().sort_values('antibody_flag', ascending=False)\n",
    "#print(ds)\n",
    "#ds.to_csv('output.csv')\n"
   ],
   "metadata": {
    "collapsed": false,
    "pycharm": {
     "name": "#%%\n"
    }
   }
  }
 ],
 "metadata": {
  "kernelspec": {
   "name": "python370jvsc74a57bd047aa89db1fba1f416479763274245f7df51745de29eacc42f7a1c437811f2200",
   "display_name": "Python 3.7.0 64-bit ('Python37')"
  },
  "language_info": {
   "codemirror_mode": {
    "name": "ipython",
    "version": 2
   },
   "file_extension": ".py",
   "mimetype": "text/x-python",
   "name": "python",
   "nbconvert_exporter": "python",
   "pygments_lexer": "ipython2",
   "version": "3.7.0"
  },
  "metadata": {
   "interpreter": {
    "hash": "47aa89db1fba1f416479763274245f7df51745de29eacc42f7a1c437811f2200"
   }
  }
 },
 "nbformat": 4,
 "nbformat_minor": 0
}